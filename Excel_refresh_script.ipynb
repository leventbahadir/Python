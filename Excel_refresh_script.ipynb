{
 "cells": [
  {
   "cell_type": "code",
   "execution_count": 1,
   "id": "99343bb5-80be-4c5d-8a7d-a64908821b50",
   "metadata": {},
   "outputs": [],
   "source": [
    "\n",
    "import xlwings as xw\n",
    "from datetime import datetime, timedelta"
   ]
  },
  {
   "cell_type": "code",
   "execution_count": 2,
   "id": "fce06e3e-5eea-4e36-87e1-103992426503",
   "metadata": {},
   "outputs": [],
   "source": [
    "import os\n",
    "from datetime import datetime"
   ]
  },
  {
   "cell_type": "code",
   "execution_count": 3,
   "id": "39a5ccf6-0534-4850-9f7b-4d6f0edccd3a",
   "metadata": {},
   "outputs": [],
   "source": [
    "import re"
   ]
  },
  {
   "cell_type": "code",
   "execution_count": 4,
   "id": "873037fc-4860-46f7-a83b-90c28c324d4d",
   "metadata": {},
   "outputs": [],
   "source": [
    "directory = 'C:\\\\Users\\\\leven\\\\OneDrive\\\\Desktop\\\\test_folder'"
   ]
  },
  {
   "cell_type": "code",
   "execution_count": 5,
   "id": "91013212-d697-437e-ab2b-f4198d30493f",
   "metadata": {},
   "outputs": [],
   "source": [
    "# List all files in the directory and filter out non-Excel files or non-matching naming conventions\n",
    "pattern = re.compile(r'^test \\d{2}\\.\\d{2}\\.\\d{4}\\.xlsx$')"
   ]
  },
  {
   "cell_type": "code",
   "execution_count": 6,
   "id": "69e51626-4c46-4d3f-aa57-984a13cf9ee6",
   "metadata": {},
   "outputs": [],
   "source": [
    "files = [f for f in os.listdir(directory) if pattern.match(f)]"
   ]
  },
  {
   "cell_type": "code",
   "execution_count": 7,
   "id": "611d3dd7-eb78-44e4-b754-7b264a66d055",
   "metadata": {},
   "outputs": [],
   "source": [
    "files.sort(key=lambda x: datetime.strptime(x.split(' ')[1].replace('.xlsx', ''), '%m.%d.%Y'), reverse=True)"
   ]
  },
  {
   "cell_type": "code",
   "execution_count": 8,
   "id": "ce28cd20-cbb9-4770-be9b-02070f8f1ea9",
   "metadata": {},
   "outputs": [],
   "source": [
    "latest_file = os.path.join(directory, files[0])"
   ]
  },
  {
   "cell_type": "code",
   "execution_count": 9,
   "id": "2f2152db-920c-47bd-8235-9b2722eea6b8",
   "metadata": {},
   "outputs": [],
   "source": [
    "import xlwings as xw"
   ]
  },
  {
   "cell_type": "code",
   "execution_count": 10,
   "id": "40defc1c-0f71-41f9-a40e-80ff2c03544b",
   "metadata": {},
   "outputs": [],
   "source": [
    "wb = xw.Book(latest_file)"
   ]
  },
  {
   "cell_type": "code",
   "execution_count": 11,
   "id": "e5ee559c-0321-4b12-b30f-4af5692b3634",
   "metadata": {},
   "outputs": [],
   "source": [
    "# wb.api.RefreshAll()\n",
    "\n",
    "# Refresh each connection explicitly\n",
    "for connection in wb.api.Connections:\n",
    "    connection.OLEDBConnection.BackgroundQuery = False\n",
    "    connection.Refresh()"
   ]
  },
  {
   "cell_type": "code",
   "execution_count": 12,
   "id": "f67f8d5c-f956-4077-b60f-997cc165bdc4",
   "metadata": {},
   "outputs": [],
   "source": [
    "wb.save()"
   ]
  },
  {
   "cell_type": "code",
   "execution_count": 13,
   "id": "d94bd9b2-48ba-4cfe-82e4-e353662db562",
   "metadata": {},
   "outputs": [],
   "source": [
    "new_filename = f\"test {datetime.now().strftime('%m.%d.%Y')}.xlsx\""
   ]
  },
  {
   "cell_type": "code",
   "execution_count": 14,
   "id": "997caf57-9d4e-438b-9dcf-754bf8cf0d04",
   "metadata": {},
   "outputs": [],
   "source": [
    "new_file_path = os.path.join(directory, new_filename)"
   ]
  },
  {
   "cell_type": "code",
   "execution_count": 15,
   "id": "5752b459-50a2-4995-a8e0-32441f799378",
   "metadata": {},
   "outputs": [],
   "source": [
    "wb.save(new_file_path)"
   ]
  },
  {
   "cell_type": "code",
   "execution_count": 16,
   "id": "2fd7daa3-bba4-4016-9d00-2d2cc8ab5104",
   "metadata": {},
   "outputs": [],
   "source": [
    "wb.close()"
   ]
  },
  {
   "cell_type": "code",
   "execution_count": null,
   "id": "7dcafda8-f43d-4a78-a4b9-6e3e9c522321",
   "metadata": {},
   "outputs": [],
   "source": []
  }
 ],
 "metadata": {
  "kernelspec": {
   "display_name": "Python 3 (ipykernel)",
   "language": "python",
   "name": "python3"
  },
  "language_info": {
   "codemirror_mode": {
    "name": "ipython",
    "version": 3
   },
   "file_extension": ".py",
   "mimetype": "text/x-python",
   "name": "python",
   "nbconvert_exporter": "python",
   "pygments_lexer": "ipython3",
   "version": "3.11.7"
  }
 },
 "nbformat": 4,
 "nbformat_minor": 5
}
